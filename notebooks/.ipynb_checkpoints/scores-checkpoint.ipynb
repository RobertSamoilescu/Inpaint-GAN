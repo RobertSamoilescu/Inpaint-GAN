{
 "cells": [
  {
   "cell_type": "code",
   "execution_count": 2,
   "metadata": {},
   "outputs": [],
   "source": [
    "import os, sys, inspect\n",
    "currentdir = os.path.dirname(os.path.abspath(inspect.getfile(inspect.currentframe())))\n",
    "parentdir = os.path.dirname(currentdir)\n",
    "sys.path.insert(0,parentdir)\n",
    "\n",
    "import numpy as np\n",
    "import pandas as pd\n",
    "import pickle as pkl\n",
    "import random\n",
    "import torch\n",
    "import torch.nn\n",
    "import torch.nn.functional as F\n",
    "from torch.utils.data import Dataset, DataLoader\n",
    "from torchvision import transforms\n",
    "import os\n",
    "import matplotlib.pyplot as plt\n",
    "from PIL import Image\n",
    "import util.opt as opt\n",
    "from util.data import *\n",
    "from network.net import PConvUNet\n",
    "from util.image import unnormalize\n",
    "from collections import OrderedDict\n",
    "import tensorflow as tf\n",
    "from tqdm import tqdm"
   ]
  },
  {
   "cell_type": "markdown",
   "metadata": {},
   "source": [
    "## Read masks"
   ]
  },
  {
   "cell_type": "code",
   "execution_count": 3,
   "metadata": {},
   "outputs": [
    {
     "data": {
      "image/png": "[encoded data removed]",
      "text/plain": [
       "<Figure size 432x288 with 1 Axes>"
      ]
     },
     "metadata": {
      "needs_background": "light"
     },
     "output_type": "display_data"
    }
   ],
   "source": [
    "test_csv = pd.read_csv(\"../dataset/test.csv\")\n",
    "files = test_csv.to_numpy().reshape(-1,)\n",
    "masks_paths =  [\"../dataset/masks/\" + file + \".png\" for file in files]\n",
    "masks = [np.array(Image.open(mask_path)) for mask_path in masks_paths]\n",
    "\n",
    "# compute fill ratio\n",
    "hole2image = [np.sum(mask == 0) / np.prod(mask.shape) for mask in masks]\n",
    "\n",
    "# plot histogram\n",
    "plt.hist(hole2image)\n",
    "plt.xlabel(\"hole to image ratio\")\n",
    "plt.ylabel(\"number of images\")\n",
    "plt.show()"
   ]
  },
  {
   "cell_type": "code",
   "execution_count": 4,
   "metadata": {},
   "outputs": [],
   "source": [
    "bins = [0.01, 0.1, 0.2, 0.3, 0.4, 0.5, 0.6]\n",
    "disc_hole2image = pd.cut(x=hole2image, bins=bins)\n",
    "disc_hole2image = [str(x) for x in disc_hole2image]\n",
    "\n",
    "dict_masks = {}\n",
    "for i in range(len(masks)):\n",
    "    dh2i = disc_hole2image[i]\n",
    "    \n",
    "    if dh2i == 'nan':\n",
    "        continue\n",
    "        \n",
    "    dict_masks[dh2i] = dict_masks.get(dh2i, []) + [masks[i]]"
   ]
  },
  {
   "cell_type": "code",
   "execution_count": 5,
   "metadata": {},
   "outputs": [
    {
     "data": {
      "image/png": "[encoded data removed]",
      "text/plain": [
       "<Figure size 432x288 with 1 Axes>"
      ]
     },
     "metadata": {
      "needs_background": "light"
     },
     "output_type": "display_data"
    }
   ],
   "source": [
    "ranges = ['(0.01, 0.1]', '(0.1, 0.2]', '(0.2, 0.3]', '(0.3, 0.4]', '(0.4, 0.5]', '(0.5, 0.6]']\n",
    "values = [len(dict_masks[rng]) for rng in ranges]\n",
    "\n",
    "plt.bar(ranges, values)\n",
    "plt.show()"
   ]
  },
  {
   "cell_type": "markdown",
   "metadata": {},
   "source": [
    "## Compute scores"
   ]
  },
  {
   "cell_type": "code",
   "execution_count": 6,
   "metadata": {},
   "outputs": [],
   "source": [
    "def score_func(gts: list, outputs: list, func_name:str):\n",
    "    scores = []\n",
    "    sess = tf.Session()\n",
    "    \n",
    "    with sess.as_default():\n",
    "        for i in range(len(gts)):\n",
    "            gt, output = gts[i], outputs[i]\n",
    "            num_pixels = float(np.prod(gt.shape))\n",
    "            \n",
    "            gt = tf.convert_to_tensor(gt)\n",
    "            output = tf.convert_to_tensor(output)\n",
    "\n",
    "            if func_name == 'PSNR':\n",
    "                score = tf.image.psnr(gt, output, max_val=1.0)\n",
    "            elif func_name == 'SSIM':\n",
    "                score = tf.image.ssim(gt, output, max_val=1.0)\n",
    "            else:\n",
    "                score = tf.divide(tf.reduce_sum(tf.abs(gt - output)), num_pixels / 255.)\n",
    "\n",
    "            score = score.eval()\n",
    "            if score == np.inf:\n",
    "                continue\n",
    "            scores.append(score)\n",
    "            \n",
    "    return scores"
   ]
  },
  {
   "cell_type": "code",
   "execution_count": 7,
   "metadata": {},
   "outputs": [
    {
     "name": "stderr",
     "output_type": "stream",
     "text": [
      "  0%|          | 0/6 [00:00<?, ?it/s]\n",
      "0it [00:00, ?it/s]\u001b[A\n",
      "1it [00:12, 12.52s/it]\u001b[A\n",
      "2it [00:45, 18.77s/it]\u001b[A\n",
      " 17%|█▋        | 1/6 [01:47<08:59, 107.96s/it]\n",
      "\n",
      "0it [00:00, ?it/s]\u001b[A\u001b[A\n",
      "\n",
      "1it [01:34, 94.80s/it]\u001b[A\u001b[A\n",
      "\n",
      "2it [03:42, 104.62s/it]\u001b[A\u001b[A\n",
      "\n",
      " 33%|███▎      | 2/6 [08:11<12:43, 190.76s/it]\n",
      "\n",
      "\n",
      "0it [00:00, ?it/s]\u001b[A\u001b[A\u001b[A\n",
      "\n",
      "\n",
      "1it [03:19, 199.62s/it]\u001b[A\u001b[A\u001b[A\n",
      "\n",
      "\n",
      "2it [07:17, 211.00s/it]\u001b[A\u001b[A\u001b[A\n",
      "\n",
      "\n",
      " 50%|█████     | 3/6 [20:04<17:22, 347.44s/it]\n",
      "\n",
      "\n",
      "\n",
      "0it [00:00, ?it/s]\u001b[A\u001b[A\u001b[A\u001b[A\n",
      "\n",
      "\n",
      "\n",
      "1it [05:19, 319.53s/it]\u001b[A\u001b[A\u001b[A\u001b[A\n",
      "\n",
      "\n",
      "\n",
      "2it [11:19, 331.55s/it]\u001b[A\u001b[A\u001b[A\u001b[A\n",
      "\n",
      "\n",
      "\n",
      " 67%|██████▋   | 4/6 [38:07<18:55, 567.94s/it]\n",
      "\n",
      "\n",
      "\n",
      "\n",
      "0it [00:00, ?it/s]\u001b[A\u001b[A\u001b[A\u001b[A\u001b[A\n",
      "\n",
      "\n",
      "\n",
      "\n",
      "1it [07:29, 449.01s/it]\u001b[A\u001b[A\u001b[A\u001b[A\u001b[A\n",
      "\n",
      "\n",
      "\n",
      "\n",
      "2it [15:47, 463.77s/it]\u001b[A\u001b[A\u001b[A\u001b[A\u001b[A\n",
      "\n",
      "\n",
      "\n",
      "\n",
      " 83%|████████▎ | 5/6 [1:02:59<14:05, 845.05s/it]\n",
      "\n",
      "\n",
      "\n",
      "\n",
      "\n",
      "0it [00:00, ?it/s]\u001b[A\u001b[A\u001b[A\u001b[A\u001b[A\u001b[A\n",
      "\n",
      "\n",
      "\n",
      "\n",
      "\n",
      "1it [10:00, 600.90s/it]\u001b[A\u001b[A\u001b[A\u001b[A\u001b[A\u001b[A\n",
      "\n",
      "\n",
      "\n",
      "\n",
      "\n",
      "2it [20:51, 615.67s/it]\u001b[A\u001b[A\u001b[A\u001b[A\u001b[A\u001b[A\n",
      "\n",
      "\n",
      "\n",
      "\n",
      "\n",
      "100%|██████████| 6/6 [1:35:32<00:00, 1177.57s/it]\n",
      "\u001b[A                   \n",
      "\n",
      "\n",
      "\n",
      "\n",
      "\n",
      "\u001b[A\u001b[A\u001b[A\u001b[A\u001b[A\u001b[A     \n",
      "\n",
      "\n",
      "\u001b[A\u001b[A\u001b[A              \n",
      "\n",
      "\n",
      "\n",
      "\n",
      "\u001b[A\u001b[A\u001b[A\u001b[A\u001b[A        \n",
      "\n",
      "\n",
      "\n",
      "\u001b[A\u001b[A\u001b[A\u001b[A           \n",
      "\n",
      "100%|██████████| 6/6 [1:35:32<00:00, 955.41s/it] \n"
     ]
    }
   ],
   "source": [
    "# dictionary of metric functions\n",
    "metric_funcs = [ \"L1\", \"PSNR\", \"SSIM\"]\n",
    "\n",
    "# dictionary of metric scores\n",
    "metric_scores = {\n",
    "   '(0.01, 0.1]': OrderedDict(), \n",
    "    '(0.1, 0.2]': OrderedDict(), \n",
    "    '(0.2, 0.3]': OrderedDict(), \n",
    "    '(0.3, 0.4]': OrderedDict(), \n",
    "    '(0.4, 0.5]': OrderedDict(), \n",
    "    '(0.5, 0.6]': OrderedDict()\n",
    "}\n",
    "\n",
    "# define device\n",
    "device = torch.device(\"cuda\" if torch.cuda.is_available() else \"cpu\")\n",
    "\n",
    "# create dataset\n",
    "dataset = NusceneDataset('../dataset', train=False)\n",
    "dataloader = DataLoader(dataset, batch_size=32, num_workers=1, drop_last=False)\n",
    "\n",
    "# load model\n",
    "model = PConvUNet().to(device)\n",
    "ckpt_dict = torch.load(\"../snapshots_GAN/ckpt_GAN_alpha_1.00/1000000.pth\")\n",
    "model.load_state_dict(ckpt_dict[\"model\"], strict=False)\n",
    "model.eval()\n",
    "\n",
    "\n",
    "for rng in tqdm(dict_masks):\n",
    "    for i, sample in tqdm(enumerate(dataloader)):#len(dataset)):\n",
    "        if i >= 3:\n",
    "            break\n",
    "            \n",
    "        gts = sample[\"gt\"].float().to(device)\n",
    "        \n",
    "        # sample a random maks from the current range\n",
    "        idx = np.random.choice(np.arange(len(dict_masks[rng])), size=gts.shape[0], replace=True)\n",
    "        masks = [dict_masks[rng][i] for i in idx]\n",
    "        masks = [np.expand_dims(mask / 255., 0).repeat(3, axis=0) for mask in masks]\n",
    "        masks = torch.tensor(np.stack(masks)).float().to(device)\n",
    "        \n",
    "        # image masked\n",
    "        imgs = gts * masks\n",
    "        \n",
    "        # get output\n",
    "        with torch.no_grad():\n",
    "            outputs, _ = model(imgs, masks)\n",
    "        outputs_comp = masks * imgs + (1 - masks) * outputs\n",
    "        \n",
    "        # send back to cpu\n",
    "        gts = gts.cpu()\n",
    "        outputs_comp = outputs_comp.cpu()\n",
    "        \n",
    "        # unnormalize\n",
    "        un_gts = unnormalize(gts)\n",
    "        un_outputs_comp = unnormalize(outputs_comp)\n",
    "        \n",
    "        # get them to range 0, 1\n",
    "        un_gts = torch.clamp(un_gts, 0., 1.)\n",
    "        un_outputs_comp = torch.clamp(un_outputs_comp, 0., 1.)\n",
    "        \n",
    "        # reshape and typing\n",
    "        un_gts = [x.transpose(1, 2, 0) for x in list(un_gts.numpy())]\n",
    "        un_outputs_comp = [x.transpose(1, 2, 0) for x in list(un_outputs_comp.numpy())]\n",
    "        for score_name in metric_funcs:\n",
    "            metric_scores[rng][score_name] = metric_scores[rng].get(score_name, []) + \\\n",
    "                score_func(un_gts, un_outputs_comp, score_name)"
   ]
  },
  {
   "cell_type": "code",
   "execution_count": 8,
   "metadata": {},
   "outputs": [
    {
     "name": "stderr",
     "output_type": "stream",
     "text": [
      "\n",
      "\n",
      "\n",
      "\n",
      "\n",
      "\n",
      "100%|██████████| 6/6 [00:00<00:00, 5474.40it/s][A\u001b[A\u001b[A\n"
     ]
    }
   ],
   "source": [
    "statistics = {}\n",
    "\n",
    "for rng in tqdm(ranges):\n",
    "    statistics[rng] = []\n",
    "\n",
    "    for score_name in metric_funcs:\n",
    "        statistics[rng].append(np.mean(metric_scores[rng][score_name]))"
   ]
  },
  {
   "cell_type": "code",
   "execution_count": 9,
   "metadata": {},
   "outputs": [],
   "source": [
    "results = pd.DataFrame(statistics, index=metric_funcs)\n",
    "results.to_csv(\"../results/alpha_0.75.csv\")"
   ]
  },
  {
   "cell_type": "code",
   "execution_count": 10,
   "metadata": {},
   "outputs": [
    {
     "data": {
      "text/html": [
       "<div>\n",
       "<style scoped>\n",
       "    .dataframe tbody tr th:only-of-type {\n",
       "        vertical-align: middle;\n",
       "    }\n",
       "\n",
       "    .dataframe tbody tr th {\n",
       "        vertical-align: top;\n",
       "    }\n",
       "\n",
       "    .dataframe thead th {\n",
       "        text-align: right;\n",
       "    }\n",
       "</style>\n",
       "<table border=\"1\" class=\"dataframe\">\n",
       "  <thead>\n",
       "    <tr style=\"text-align: right;\">\n",
       "      <th></th>\n",
       "      <th>(0.01, 0.1]</th>\n",
       "      <th>(0.1, 0.2]</th>\n",
       "      <th>(0.2, 0.3]</th>\n",
       "      <th>(0.3, 0.4]</th>\n",
       "      <th>(0.4, 0.5]</th>\n",
       "      <th>(0.5, 0.6]</th>\n",
       "    </tr>\n",
       "  </thead>\n",
       "  <tbody>\n",
       "    <tr>\n",
       "      <th>L1</th>\n",
       "      <td>2.202385</td>\n",
       "      <td>7.936019</td>\n",
       "      <td>13.063655</td>\n",
       "      <td>17.461906</td>\n",
       "      <td>21.343025</td>\n",
       "      <td>29.734762</td>\n",
       "    </tr>\n",
       "    <tr>\n",
       "      <th>PSNR</th>\n",
       "      <td>27.813490</td>\n",
       "      <td>20.554722</td>\n",
       "      <td>17.859392</td>\n",
       "      <td>16.477669</td>\n",
       "      <td>15.562496</td>\n",
       "      <td>13.846869</td>\n",
       "    </tr>\n",
       "    <tr>\n",
       "      <th>SSIM</th>\n",
       "      <td>0.966852</td>\n",
       "      <td>0.887622</td>\n",
       "      <td>0.814912</td>\n",
       "      <td>0.737954</td>\n",
       "      <td>0.671707</td>\n",
       "      <td>0.579973</td>\n",
       "    </tr>\n",
       "  </tbody>\n",
       "</table>\n",
       "</div>"
      ],
      "text/plain": [
       "      (0.01, 0.1]  (0.1, 0.2]  (0.2, 0.3]  (0.3, 0.4]  (0.4, 0.5]  (0.5, 0.6]\n",
       "L1       2.202385    7.936019   13.063655   17.461906   21.343025   29.734762\n",
       "PSNR    27.813490   20.554722   17.859392   16.477669   15.562496   13.846869\n",
       "SSIM     0.966852    0.887622    0.814912    0.737954    0.671707    0.579973"
      ]
     },
     "execution_count": 10,
     "metadata": {},
     "output_type": "execute_result"
    }
   ],
   "source": [
    "results = pd.read_csv(\"../results/alpha_0.75.csv\", index_col=0)\n",
    "results"
   ]
  },
  {
   "cell_type": "code",
   "execution_count": null,
   "metadata": {},
   "outputs": [],
   "source": []
  }
 ],
 "metadata": {
  "kernelspec": {
   "display_name": "Python 3",
   "language": "python",
   "name": "python3"
  },
  "language_info": {
   "codemirror_mode": {
    "name": "ipython",
    "version": 3
   },
   "file_extension": ".py",
   "mimetype": "text/x-python",
   "name": "python",
   "nbconvert_exporter": "python",
   "pygments_lexer": "ipython3",
   "version": "3.6.8"
  }
 },
 "nbformat": 4,
 "nbformat_minor": 2
}
